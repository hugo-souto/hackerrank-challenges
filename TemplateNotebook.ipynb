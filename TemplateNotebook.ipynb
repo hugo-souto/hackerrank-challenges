{
 "cells": [
  {
   "attachments": {},
   "cell_type": "markdown",
   "metadata": {},
   "source": [
    "# Original Code Stub"
   ]
  },
  {
   "attachments": {},
   "cell_type": "markdown",
   "metadata": {},
   "source": []
  },
  {
   "attachments": {},
   "cell_type": "markdown",
   "metadata": {},
   "source": [
    "# Artificial data"
   ]
  },
  {
   "cell_type": "code",
   "execution_count": null,
   "metadata": {},
   "outputs": [],
   "source": [
    "input = (''' ''')\n",
    "\n",
    "print(input)"
   ]
  },
  {
   "attachments": {},
   "cell_type": "markdown",
   "metadata": {},
   "source": [
    "# Solution"
   ]
  },
  {
   "cell_type": "code",
   "execution_count": 1,
   "metadata": {},
   "outputs": [
    {
     "ename": "TypeError",
     "evalue": "initial_value must be str or None, not method",
     "output_type": "error",
     "traceback": [
      "\u001b[1;31m---------------------------------------------------------------------------\u001b[0m",
      "\u001b[1;31mTypeError\u001b[0m                                 Traceback (most recent call last)",
      "Cell \u001b[1;32mIn[1], line 4\u001b[0m\n\u001b[0;32m      1\u001b[0m \u001b[39mfrom\u001b[39;00m \u001b[39mio\u001b[39;00m \u001b[39mimport\u001b[39;00m StringIO\n\u001b[0;32m      3\u001b[0m \u001b[39m# Convert the string data to a file-like object\u001b[39;00m\n\u001b[1;32m----> 4\u001b[0m data_io \u001b[39m=\u001b[39m StringIO(\u001b[39minput\u001b[39;49m)\n\u001b[0;32m      6\u001b[0m \u001b[39mif\u001b[39;00m \u001b[39m__name__\u001b[39m \u001b[39m==\u001b[39m \u001b[39m'\u001b[39m\u001b[39m__main__\u001b[39m\u001b[39m'\u001b[39m:\n\u001b[0;32m      7\u001b[0m \n\u001b[0;32m      8\u001b[0m     \u001b[39m# n = int(input())\u001b[39;00m\n\u001b[0;32m      9\u001b[0m     n \u001b[39m=\u001b[39m \u001b[39mint\u001b[39m(data_io\u001b[39m.\u001b[39mreadline())\n",
      "\u001b[1;31mTypeError\u001b[0m: initial_value must be str or None, not method"
     ]
    }
   ],
   "source": [
    "from statistics import mean\n",
    "from io import StringIO\n",
    "\n",
    "# Convert the string data to a file-like object\n",
    "data_io = StringIO(input)\n",
    "\n",
    "if __name__ == '__main__':\n",
    "# Execute when the module is not initialized from an import statement.\n",
    "\n",
    "    n = int(data_io.readline())\n",
    "    student_marks = {}\n",
    "\n",
    "    for _ in range(n):\n",
    "        name, *line = data_io.readline().split()\n",
    "        scores = list(map(float, line))\n",
    "        student_marks[name] = scores\n",
    "    query_name = data_io.readline().strip()\n",
    "\n",
    "    average_score = mean(student_marks[query_name])\n",
    "    print('{:.2f}'.format(average_score))"
   ]
  }
 ],
 "metadata": {
  "kernelspec": {
   "display_name": "base",
   "language": "python",
   "name": "python3"
  },
  "language_info": {
   "codemirror_mode": {
    "name": "ipython",
    "version": 3
   },
   "file_extension": ".py",
   "mimetype": "text/x-python",
   "name": "python",
   "nbconvert_exporter": "python",
   "pygments_lexer": "ipython3",
   "version": "3.10.9"
  },
  "orig_nbformat": 4
 },
 "nbformat": 4,
 "nbformat_minor": 2
}
