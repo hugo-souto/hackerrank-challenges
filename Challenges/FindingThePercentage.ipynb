{
 "cells": [
  {
   "attachments": {},
   "cell_type": "markdown",
   "metadata": {},
   "source": [
    "# Original Code Stub\n"
   ]
  },
  {
   "cell_type": "code",
   "execution_count": 4,
   "metadata": {},
   "outputs": [],
   "source": [
    "# if __name__ == '__main__':\n",
    "#     n = int(input())\n",
    "#     student_marks = {}\n",
    "#     for _ in range(n):\n",
    "#         name, *line = input().split()\n",
    "#         scores = list(map(float, line))\n",
    "#         student_marks[name] = scores\n",
    "#     query_name = input()"
   ]
  },
  {
   "attachments": {},
   "cell_type": "markdown",
   "metadata": {},
   "source": [
    "# Artificial data"
   ]
  },
  {
   "cell_type": "code",
   "execution_count": 5,
   "metadata": {},
   "outputs": [
    {
     "name": "stdout",
     "output_type": "stream",
     "text": [
      "3\n",
      "Krishna 67 68 69\n",
      "Arjun 70 98 63\n",
      "Malika 52 56.8 60.3\n",
      "Malika\n"
     ]
    }
   ],
   "source": [
    "input = ('''3\n",
    "Krishna 67 68 69\n",
    "Arjun 70 98 63\n",
    "Malika 52 56.8 60.3\n",
    "Malika''')\n",
    "\n",
    "print(input)"
   ]
  },
  {
   "attachments": {},
   "cell_type": "markdown",
   "metadata": {},
   "source": [
    "# My Solution"
   ]
  },
  {
   "cell_type": "code",
   "execution_count": 9,
   "metadata": {},
   "outputs": [
    {
     "name": "stdout",
     "output_type": "stream",
     "text": [
      "56.37\n"
     ]
    }
   ],
   "source": [
    "# import numpy as np\n",
    "\n",
    "from statistics import mean\n",
    "from io import StringIO\n",
    "\n",
    "# Convert the string data to a file-like object\n",
    "data_io = StringIO(input)\n",
    "\n",
    "if __name__ == '__main__':\n",
    "\n",
    "    # n = int(input())\n",
    "    n = int(data_io.readline())\n",
    "    student_marks = {}\n",
    "\n",
    "    for _ in range(n):\n",
    "        name, *line = data_io.readline().split()\n",
    "        scores = list(map(float, line))\n",
    "        student_marks[name] = scores\n",
    "    query_name = data_io.readline().strip()\n",
    "\n",
    "    # print(query_name)\n",
    "    \n",
    "    # print(student_marks.items())\n",
    "    # print(student_marks.keys())\n",
    "    # print(student_marks.values())\n",
    "    \n",
    "    # print(type(student_marks.get(query_name)[1]))\n",
    "    # print(student_marks.get(query_name))\n",
    "    # print(type(student_marks[query_name][1]))    \n",
    "    # print(student_marks[query_name])\n",
    "    # print(\"{:.2f}\".format(round(mean(student_marks[query_name]), 2)))\n",
    "    # print(np.mean(student_marks[query_name]))\n",
    "\n",
    "    average_score = mean(student_marks[query_name])\n",
    "    print('{:.2f}'.format(average_score))"
   ]
  },
  {
   "attachments": {},
   "cell_type": "markdown",
   "metadata": {},
   "source": [
    "# Improved Solution"
   ]
  },
  {
   "cell_type": "code",
   "execution_count": 13,
   "metadata": {},
   "outputs": [
    {
     "name": "stdout",
     "output_type": "stream",
     "text": [
      "56.00\n"
     ]
    }
   ],
   "source": [
    "if __name__ == '__main__':\n",
    "\n",
    "    # Artificial data to simulate HackerRank input\n",
    "    input = ('''3\n",
    "    Krishna 67 68 69\n",
    "    Arjun 70 98 63\n",
    "    Malika 52 56 60\n",
    "    Malika''')\n",
    "\n",
    "    # Import package to simulate HackerHack input\n",
    "    from io import StringIO\n",
    "\n",
    "    # Convert the string data to a file-like object\n",
    "    data_io = StringIO(input)\n",
    "\n",
    "    # Modified HackerHack code stub\n",
    "    n = int(data_io.readline())\n",
    "    student_marks = {}\n",
    "\n",
    "    for _ in range(n):\n",
    "        name, *line = data_io.readline().split()\n",
    "        scores = list(map(float, line))\n",
    "        student_marks[name] = scores\n",
    "    query_name = data_io.readline().strip()\n",
    "    \n",
    "    # Solution\n",
    "    average_score = sum(student_marks[query_name])/len(student_marks[query_name])\n",
    "    print(\"{:.2f}\".format(average_score))"
   ]
  }
 ],
 "metadata": {
  "kernelspec": {
   "display_name": "base",
   "language": "python",
   "name": "python3"
  },
  "language_info": {
   "codemirror_mode": {
    "name": "ipython",
    "version": 3
   },
   "file_extension": ".py",
   "mimetype": "text/x-python",
   "name": "python",
   "nbconvert_exporter": "python",
   "pygments_lexer": "ipython3",
   "version": "3.10.9"
  },
  "orig_nbformat": 4
 },
 "nbformat": 4,
 "nbformat_minor": 2
}
